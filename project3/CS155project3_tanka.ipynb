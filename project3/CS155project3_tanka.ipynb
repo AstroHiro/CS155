{
 "cells": [
  {
   "cell_type": "markdown",
   "metadata": {},
   "source": [
    "# CS155 Project 3 Additional Goals\n",
    "In this notebook, we generate tankas (短歌), one of the traditional forms of poems in Japan, using LSTM-RNNs."
   ]
  },
  {
   "cell_type": "markdown",
   "metadata": {},
   "source": [
    "## Funcitons"
   ]
  },
  {
   "cell_type": "code",
   "execution_count": 1,
   "metadata": {},
   "outputs": [
    {
     "name": "stderr",
     "output_type": "stream",
     "text": [
      "Using TensorFlow backend.\n"
     ]
    }
   ],
   "source": [
    "from keras.models import load_model\n",
    "import HitomaroRNN as hitor\n",
    "import NukataRNN as nukatar\n",
    "\n",
    "def IncludeWS(text):\n",
    "    tx_list = list(text)\n",
    "    out = []\n",
    "    out.append(''.join(tx_list[0:5]))\n",
    "    out.append(''.join(tx_list[5:12]))\n",
    "    out.append(''.join(tx_list[12:17]))\n",
    "    out.append(''.join(tx_list[17:24]))\n",
    "    out.append(''.join(tx_list[24:31]))\n",
    "    return ' '.join(out)"
   ]
  },
  {
   "cell_type": "markdown",
   "metadata": {},
   "source": [
    "## Load trained LSTM-RNNs"
   ]
  },
  {
   "cell_type": "code",
   "execution_count": 9,
   "metadata": {},
   "outputs": [],
   "source": [
    "# Hiromaro (百人一首: Hyakuni-Isshu)\n",
    "modelHito7 = load_model('models/Hitomaro/hito7.h5')\n",
    "hito7 = hitor.Hitomaro(seq_length=7)\n",
    "modelHito9 = load_model('models/Hitomaro/hito9.h5')\n",
    "hito9 = hitor.Hitomaro(seq_length=9)\n",
    "modelHito6wws = load_model('models/Hitomaro/hito6_w_ws.h5')\n",
    "hito6 = hitor.Hitomaro(seq_length=6,Nsemi=1,whitespace=False)\n",
    "modelHito8wws = load_model('models/Hitomaro/hito8_w_ws.h5')\n",
    "hito8 = hitor.Hitomaro(seq_length=8,Nsemi=1,whitespace=False)\n",
    "\n",
    "# Nukata (万葉集: Man-yo-Shu)\n",
    "modelNukata4 = load_model('models/Nukata/nukata4.h5')\n",
    "nukata4 = nukatar.Nukata(seq_length=4)\n",
    "modelNukata7 = load_model('models/Nukata/nukata7.h5')\n",
    "nukata7 = nukatar.Nukata(seq_length=7)\n",
    "modelNukata8 = load_model('models/Nukata/nukata8.h5')\n",
    "nukata8 = nukatar.Nukata(seq_length=8)\n",
    "modelNukata16 = load_model('models/Nukata/nukata16.h5')\n",
    "nukata16 = nukatar.Nukata(seq_length=16)\n",
    "modelNukata6wws = load_model('models/Nukata/nukata6_w_ws.h5')\n",
    "nukata6 = nukatar.Nukata(seq_length=6,Nsemi=1,whitespace=False)"
   ]
  },
  {
   "cell_type": "markdown",
   "metadata": {},
   "source": [
    "## Generate Tankas using the Hyakuni-Isshu LSTM-RNN\n",
    "Tankas are generated using the famous first lines of Haikus written by famous poets"
   ]
  },
  {
   "cell_type": "code",
   "execution_count": 10,
   "metadata": {},
   "outputs": [
    {
     "name": "stdout",
     "output_type": "stream",
     "text": [
      "############# Hitomaro-RNN with sequence length = 6 #############\n",
      "なつくさや のみもぢよふ ふとめかしら ひとにからねむ ひとこもしらね \n",
      "やせがへる さじのかは にのしきれて あふるととむば ばたころごじ\n",
      "かきくえば たきはらり たかなくに ひとこかみえね ひとはきもかり\n",
      "なのはなや あらにのきふら  しぢそよけ な かひのたそまきに すれはの \n",
      "\n",
      "############# Hitomaro-RNN with sequence length = 8 #############\n",
      "なつくさや よのよか ひとこひめねき かまこもけつば とぎのおひや\n",
      "やせがへる よののひと ひぢぬるふとよ よのいまふひなりとわみのなこそな\n",
      "かきくえば よののやくもの おるれはど ながさしにけり ひろぶみのつき \n",
      "なのはなや およしふる よががはの ながきものあこ おもひける いまのお \n",
      "\n",
      "###### Hitomaro-RNN with sequence length = 5 w/o white space ######\n",
      "なつくさや しきのをさしら れいつるか ながながつよを あるのとはなし\n",
      "やせがへる さくみさくもあ とぬものを にしふりとどな がなばしをかれ\n",
      "かきくえば ものをはおもな ずじかたち のひでしのまも もはなりありつ\n",
      "なのはなや らしらののゆき のふにれり あくのしのはも しのそころもは \n",
      "\n",
      "###### Hitomaro-RNN with sequence length = 7 w/o white space ######\n",
      "なつくさや まのかたたばた かはかなむ かれりももがつ なきおれけるし\n",
      "やせがへる さきしのかりの ぶきとより ぞぞぞてするか はかにのおもの\n",
      "かきくえば びのはづづらな なきどるよ をみゆくたては ちわこむひこの\n",
      "なのはなや おぐつとしのさ らまましれ るかみぎいのか ににしもがるな \n",
      "\n"
     ]
    }
   ],
   "source": [
    "# 松尾芭蕉\n",
    "input_char_bm = 'なつくさや '\n",
    "input_char_bm2 = 'なつくさや'\n",
    "# 小林一茶\n",
    "input_char_ik = 'やせがへる '\n",
    "input_char_ik2 = 'やせがへる'\n",
    "# 与謝蕪村\n",
    "input_char_by = 'なのはなや '\n",
    "input_char_by2 = 'なのはなや'\n",
    "# 正岡子規\n",
    "input_char_sm = 'かきくえば '\n",
    "input_char_sm2 = 'かきくえば'\n",
    "\n",
    "print('############# Hitomaro-RNN with sequence length = 6 #############')\n",
    "print(hito7.GenerateAItanka(input_char_bm,modelHito7,30))\n",
    "print(hito7.GenerateAItanka(input_char_ik,modelHito7,27))\n",
    "print(hito7.GenerateAItanka(input_char_sm,modelHito7,27))\n",
    "print(hito7.GenerateAItanka(input_char_by,modelHito7,30),'\\n')\n",
    "print('############# Hitomaro-RNN with sequence length = 8 #############')\n",
    "print(hito9.GenerateAItanka(input_char_bm,modelHito9,27))\n",
    "print(hito9.GenerateAItanka(input_char_ik,modelHito9,30))\n",
    "print(hito9.GenerateAItanka(input_char_sm,modelHito9,30))\n",
    "print(hito9.GenerateAItanka(input_char_by,modelHito9,30),'\\n')\n",
    "\n",
    "print('###### Hitomaro-RNN with sequence length = 5 w/o white space ######')\n",
    "print(IncludeWS(hito6.GenerateAItanka(input_char_bm2,modelHito6wws,26)))\n",
    "print(IncludeWS(hito6.GenerateAItanka(input_char_ik2,modelHito6wws,26)))\n",
    "print(IncludeWS(hito6.GenerateAItanka(input_char_sm2,modelHito6wws,26)))\n",
    "print(IncludeWS(hito6.GenerateAItanka(input_char_by2,modelHito6wws,26)),'\\n')\n",
    "print('###### Hitomaro-RNN with sequence length = 7 w/o white space ######')\n",
    "print(IncludeWS(hito8.GenerateAItanka(input_char_bm2,modelHito8wws,26)))\n",
    "print(IncludeWS(hito8.GenerateAItanka(input_char_ik2,modelHito8wws,26)))\n",
    "print(IncludeWS(hito8.GenerateAItanka(input_char_sm2,modelHito8wws,26)))\n",
    "print(IncludeWS(hito8.GenerateAItanka(input_char_by2,modelHito8wws,26)),'\\n')"
   ]
  },
  {
   "cell_type": "markdown",
   "metadata": {},
   "source": [
    "## Generate Tankas using the Man-yo-Shu LSTM-RNN\n",
    "Tankas are generated using the famous first lines of Haikus written by famous poets"
   ]
  },
  {
   "cell_type": "code",
   "execution_count": 15,
   "metadata": {},
   "outputs": [
    {
     "name": "stdout",
     "output_type": "stream",
     "text": [
      "############# Nukata-RNN with sequence length = 3 #############\n",
      "なつくさや しかれども ならのみや こひわたる あきはぎの はなたちばな\n",
      "やせがへる わがやどの はなたちばなの いはひてまたむといひし あきはぎ\n",
      "かきくえば いもが たまくしげ あけて いもが たまくしげ あけて いも\n",
      "なのはなや かくしこそ あがこひをも あれは こひわたる あきはぎの は \n",
      "\n",
      "############# Nukata-RNN with sequence length = 6 #############\n",
      "なつくさや のすくるくなす ひちどあかくに あがこひしなば こひもしねと\n",
      "やせがへる あがこころかも ならのみやこを みればかなしも いはひしろも\n",
      "かきくえば うらのやを あまでほしつつ すがのざみの かむなびおもひ \n",
      "なのはなや もとこひもあむと きみがいへなる をばなりおもの いにはもし \n",
      "\n",
      "############# Nukata-RNN with sequence length = 7 #############\n",
      "なつくさや まづらにいりて あめこひめだも あれはわすれじ しかのすめか\n",
      "やせがへる さきわから かはいげきりか あがこふる いもはあはさず\n",
      "かきくえば さほかもがひの ふぎのりしつを ふじめみて ふりつくやまに \n",
      "なのはなや いやくしあゆきて きみがめをみむ うめのはな さきたるそのの \n",
      "\n",
      "############# Nukata-RNN with sequence length = 15 #############\n",
      "なつくさや ぬれにもがもぞしりしるものを わみれぬかもものみやにしさらさ\n",
      "やせがへる いめにわがかもすむなものかもみずかてさもてやもをるかものやま\n",
      "かきくえば あまづかむかもりもふねとは あゆべいもに つしせををれば \n",
      "なのはなや ほととぞおもふむとよりける かざししぞもるいでなりに あはや \n",
      "\n",
      "###### Nukata-RNN with sequence length = 5 w/o white space ######\n",
      "なつくさや かへりいつねつ つくなかけ にもきみにこふ らくあまぎらひ\n",
      "やせがへる やまのなきいり えこぐなる かぢのおとゆく らかにいもはこ\n",
      "かきくえば すげきあはなむ かこひのや まなくもあやし きこころをわが\n",
      "なのはなや しみふといりば とまりにし こころつねわす らえずおもかげ \n",
      "\n"
     ]
    }
   ],
   "source": [
    "print('############# Nukata-RNN with sequence length = 3 #############')\n",
    "print(nukata4.GenerateAItanka(input_char_bm,modelNukata4,30))\n",
    "print(nukata4.GenerateAItanka(input_char_ik,modelNukata4,30))\n",
    "print(nukata4.GenerateAItanka(input_char_sm,modelNukata4,30))\n",
    "print(nukata4.GenerateAItanka(input_char_by,modelNukata4,30),'\\n')\n",
    "print('############# Nukata-RNN with sequence length = 6 #############')\n",
    "print(nukata7.GenerateAItanka(input_char_bm,modelNukata7,30))\n",
    "print(nukata7.GenerateAItanka(input_char_ik,modelNukata7,30))\n",
    "print(nukata7.GenerateAItanka(input_char_sm,modelNukata7,29))\n",
    "print(nukata7.GenerateAItanka(input_char_by,modelNukata7,30),'\\n')\n",
    "print('############# Nukata-RNN with sequence length = 7 #############')\n",
    "print(nukata8.GenerateAItanka(input_char_bm,modelNukata8,30))\n",
    "print(nukata8.GenerateAItanka(input_char_ik,modelNukata8,27))\n",
    "print(nukata8.GenerateAItanka(input_char_sm,modelNukata8,30))\n",
    "print(nukata8.GenerateAItanka(input_char_by,modelNukata8,30),'\\n')\n",
    "print('############# Nukata-RNN with sequence length = 15 #############')\n",
    "print(nukata16.GenerateAItanka(input_char_bm,modelNukata16,30))\n",
    "print(nukata16.GenerateAItanka(input_char_ik,modelNukata16,30))\n",
    "print(nukata16.GenerateAItanka(input_char_sm,modelNukata16,29))\n",
    "print(nukata16.GenerateAItanka(input_char_by,modelNukata16,30),'\\n')\n",
    "\n",
    "print('###### Nukata-RNN with sequence length = 5 w/o white space ######')\n",
    "print(IncludeWS(nukata6.GenerateAItanka(input_char_bm2,modelNukata6wws,30)))\n",
    "print(IncludeWS(nukata6.GenerateAItanka(input_char_ik2,modelNukata6wws,30)))\n",
    "print(IncludeWS(nukata6.GenerateAItanka(input_char_sm2,modelNukata6wws,30)))\n",
    "print(IncludeWS(nukata6.GenerateAItanka(input_char_by2,modelNukata6wws,30)),'\\n')"
   ]
  },
  {
   "cell_type": "markdown",
   "metadata": {},
   "source": [
    "## My own tankas in Man-yo-Shu just for fun!"
   ]
  },
  {
   "cell_type": "code",
   "execution_count": 5,
   "metadata": {},
   "outputs": [
    {
     "name": "stdout",
     "output_type": "stream",
     "text": [
      "##################################################################\n",
      "まめはらと ひむかたましに ありはぎし はなかにみやま にちらくさむし\n",
      "かわしりよ ごしてのよひつ つくおもく をしたまこずこ ちたつきみをし\n",
      "かわにしは しふりわがしら しみにこと もはやまちかし あすのひとりて\n",
      "おおひらと もによひあはず あらめやも あしひきのやま さはびとのひと\n",
      "つるぼうへ やまみゆかむか もけりしも はかばつちしに やむわぎもがと\n",
      "しろいわや をれなくあるか もなくくし きたびのさよさ くさねてけりし\n",
      "すかいはね しばいはふくさ とのはぎの したばのもみち はなにつぐとき\n",
      "よなしろよ みせばわがゐか るまでおも はしむらくにし しくありこそと\n",
      "きまたより ぬものへぬらゆ きををおき てかなしけせろ にひとさへよす\n",
      "けいごでも あるかもかくば かりこひし くしあらばなに かなげかむつね\n",
      "こうのなら さずはひもとか ずこふらむ きみとをらまし ものをおほほし\n",
      "##################################################################\n",
      "さみしいよ かしおきたち たまかづら たえむのこころ わがもしは はぎの\n",
      "あいどるよ あらししものね かねのころも ながくほりする そのたまを い\n",
      "あいどるか あれこひむかものしくに あかぢがら おもがどりせむ さだのの\n",
      "あいどるや たちしまよびく なげきぞあがする わかれかなしみ\n"
     ]
    }
   ],
   "source": [
    "print('##################################################################')\n",
    "print(IncludeWS(nukata6.GenerateAItanka('まめはらと',modelNukata6wws,30)))\n",
    "print(IncludeWS(nukata6.GenerateAItanka('かわしりよ',modelNukata6wws,30)))\n",
    "print(IncludeWS(nukata6.GenerateAItanka('かわにしは',modelNukata6wws,30)))\n",
    "print(IncludeWS(nukata6.GenerateAItanka('おおひらと',modelNukata6wws,30)))\n",
    "print(IncludeWS(nukata6.GenerateAItanka('つるぼうへ',modelNukata6wws,30)))\n",
    "print(IncludeWS(nukata6.GenerateAItanka('しろいわや',modelNukata6wws,30)))\n",
    "print(IncludeWS(nukata6.GenerateAItanka('すかいはね',modelNukata6wws,30)))\n",
    "print(IncludeWS(nukata6.GenerateAItanka('よなしろよ',modelNukata6wws,30)))\n",
    "print(IncludeWS(nukata6.GenerateAItanka('きまたより',modelNukata6wws,30)))\n",
    "print(IncludeWS(nukata6.GenerateAItanka('けいごでも',modelNukata6wws,30)))\n",
    "print(IncludeWS(nukata6.GenerateAItanka('こうのなら',modelNukata6wws,30)))\n",
    "print('##################################################################')\n",
    "print(nukata7.GenerateAItanka('さみしいよ ',modelNukata7,30))\n",
    "print(nukata7.GenerateAItanka('あいどるよ ',modelNukata7,30))\n",
    "print(nukata7.GenerateAItanka('あいどるか ',modelNukata7,30))\n",
    "print(nukata7.GenerateAItanka('あいどるや ',modelNukata7,24))"
   ]
  },
  {
   "cell_type": "code",
   "execution_count": null,
   "metadata": {},
   "outputs": [],
   "source": []
  }
 ],
 "metadata": {
  "kernelspec": {
   "display_name": "Python 3",
   "language": "python",
   "name": "python3"
  },
  "language_info": {
   "codemirror_mode": {
    "name": "ipython",
    "version": 3
   },
   "file_extension": ".py",
   "mimetype": "text/x-python",
   "name": "python",
   "nbconvert_exporter": "python",
   "pygments_lexer": "ipython3",
   "version": "3.7.4"
  }
 },
 "nbformat": 4,
 "nbformat_minor": 2
}
